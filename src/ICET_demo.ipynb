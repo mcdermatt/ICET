{
 "cells": [
  {
   "cell_type": "markdown",
   "id": "ee5020cc",
   "metadata": {},
   "source": [
    "# ICET Point Cloud Registration Demo"
   ]
  },
  {
   "cell_type": "code",
   "execution_count": 5,
   "id": "570b0147",
   "metadata": {},
   "outputs": [],
   "source": [
    "from vedo import *\n",
    "import os\n",
    "from ipyvtklink.viewer import ViewInteractiveWidget\n",
    "import numpy as np\n",
    "import pandas as pd\n",
    "import tensorflow as tf\n",
    "from tensorflow.math import sin, cos, tan\n",
    "import tensorflow_probability as tfp\n",
    "from ICET_spherical import ICET\n",
    "from utils import R_tf"
   ]
  },
  {
   "cell_type": "code",
   "execution_count": 6,
   "id": "1592fba6",
   "metadata": {
    "scrolled": false
   },
   "outputs": [
    {
     "name": "stdout",
     "output_type": "stream",
     "text": [
      "\n",
      " estimated solution vector X: \n",
      " tf.Tensor(\n",
      "[ 6.3090062e-01 -2.8014574e-03  1.5382480e-02  1.8306474e-03\n",
      " -5.2894524e-04  1.7098328e-03], shape=(6,), dtype=float32)\n",
      "\n",
      " estimated solution vector X: \n",
      " tf.Tensor(\n",
      "[ 6.6182196e-01  8.3185816e-03  1.5893659e-02  1.9094041e-03\n",
      " -4.5514858e-04 -2.2781943e-04], shape=(6,), dtype=float32)\n",
      "\n",
      " estimated solution vector X: \n",
      " tf.Tensor(\n",
      "[ 6.6433531e-01  7.8299334e-03  1.5977370e-02  1.8801364e-03\n",
      " -4.4296469e-04 -3.8632291e-04], shape=(6,), dtype=float32)\n",
      "\n",
      " estimated solution vector X: \n",
      " tf.Tensor(\n",
      "[ 6.6427845e-01  7.6574725e-03  1.6004309e-02  1.8768865e-03\n",
      " -4.3774507e-04 -3.8317425e-04], shape=(6,), dtype=float32)\n",
      "\n",
      " ---checking for moving objects---\n",
      "\n",
      " estimated solution vector X: \n",
      " tf.Tensor(\n",
      "[ 6.6453832e-01  7.7511640e-03  1.6129874e-02  1.8599983e-03\n",
      " -4.2092288e-04 -4.0438026e-04], shape=(6,), dtype=float32)\n",
      "pred_stds: \n",
      " tf.Tensor(\n",
      "[1.1986912e-03 5.5283913e-04 8.1180318e-05 1.8004632e-05 1.1171236e-05\n",
      " 8.5089960e-05], shape=(6,), dtype=float32)\n"
     ]
    },
    {
     "data": {
      "application/vnd.jupyter.widget-view+json": {
       "model_id": "2a7a813f41db434ba67f3249ac2b97ea",
       "version_major": 2,
       "version_minor": 0
      },
      "text/plain": [
       "ViewInteractiveWidget(height=1376, layout=Layout(height='auto', width='100%'), width=2488)"
      ]
     },
     "metadata": {},
     "output_type": "display_data"
    }
   ],
   "source": [
    "c1 = np.load(\"point_clouds/sample_pc_1.npy\")            # keyframe scan\n",
    "c2 = np.load(\"point_clouds/sample_pc_2.npy\")            # new scan\n",
    "fidelity = 50                                           # number of azimuthal bins to make square cross-section voxels \n",
    "num_iterations = 5                                      # number of iterations to run algorithm\n",
    "is_draw = True                                          # visualize simulation\n",
    "initial_guess = tf.constant([0., 0., 0., 0., 0., 0.])   # initial guess for transform between clouds\n",
    "is_remove_moving = True                                 # remove moving objects from the frame \n",
    "is_DNN = False                                          # suppress voxels with high perspective shift using DNN\n",
    "\n",
    "it = ICET(cloud1 = c1, cloud2 = c2, fid = fidelity, niter = num_iterations, \n",
    "           draw = is_draw, RM = is_remove_moving, DNN_filter = is_DNN, x0 = initial_guess)\n",
    "ViewInteractiveWidget(it.plt.window)"
   ]
  },
  {
   "cell_type": "code",
   "execution_count": 7,
   "id": "0977df6f",
   "metadata": {},
   "outputs": [
    {
     "name": "stdout",
     "output_type": "stream",
     "text": [
      "\n",
      " Estimated Solution Vector: \n",
      " [ 6.6453832e-01  7.7511640e-03  1.6129874e-02  1.8599983e-03\n",
      " -4.2092288e-04 -4.0438026e-04]\n",
      "\n",
      " Predicted Solution Error Covariance: \n",
      " [1.1986912e-03 5.5283913e-04 8.1180318e-05 1.8004632e-05 1.1171236e-05\n",
      " 8.5089960e-05]\n"
     ]
    }
   ],
   "source": [
    "print(\"\\n Estimated Solution Vector: \\n\", it.X.numpy())\n",
    "print(\"\\n Predicted Solution Error Covariance: \\n\", it.pred_stds.numpy())"
   ]
  },
  {
   "cell_type": "code",
   "execution_count": null,
   "id": "dc1c2f89",
   "metadata": {},
   "outputs": [],
   "source": []
  }
 ],
 "metadata": {
  "kernelspec": {
   "display_name": "Python 3 (ipykernel)",
   "language": "python",
   "name": "python3"
  },
  "language_info": {
   "codemirror_mode": {
    "name": "ipython",
    "version": 3
   },
   "file_extension": ".py",
   "mimetype": "text/x-python",
   "name": "python",
   "nbconvert_exporter": "python",
   "pygments_lexer": "ipython3",
   "version": "3.9.13"
  }
 },
 "nbformat": 4,
 "nbformat_minor": 5
}
