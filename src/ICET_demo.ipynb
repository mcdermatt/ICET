{
 "cells": [
  {
   "cell_type": "markdown",
   "id": "ee5020cc",
   "metadata": {},
   "source": [
    "# ICET Point Cloud Registration Demo"
   ]
  },
  {
   "cell_type": "code",
   "execution_count": 11,
   "id": "570b0147",
   "metadata": {},
   "outputs": [
    {
     "data": {
      "application/javascript": [
       "IPython.notebook.set_autosave_interval(180000)"
      ]
     },
     "metadata": {},
     "output_type": "display_data"
    },
    {
     "name": "stdout",
     "output_type": "stream",
     "text": [
      "Autosaving every 180 seconds\n"
     ]
    }
   ],
   "source": [
    "from vedo import *\n",
    "import os\n",
    "from ipyvtklink.viewer import ViewInteractiveWidget\n",
    "import numpy as np\n",
    "import pandas as pd\n",
    "import tensorflow as tf\n",
    "from tensorflow.math import sin, cos, tan\n",
    "import tensorflow_probability as tfp\n",
    "\n",
    "# #Force run on CPU (uncomment for hardware debugging) ~~~~~~~~~~~~~~~~~~~~~~~\n",
    "# # print(tf.__version__)\n",
    "# # Set CPU as available physical device\n",
    "# my_devices = tf.config.experimental.list_physical_devices(device_type='CPU')\n",
    "# tf.config.experimental.set_visible_devices(devices= my_devices, device_type='CPU')\n",
    "# tf.config.set_visible_devices([], 'GPU')\n",
    "# # To find out which devices your operations and tensors are assigned to\n",
    "# tf.debugging.set_log_device_placement(True)\n",
    "# # Create some tensors and perform an operation\n",
    "# a = tf.constant([[1.0, 2.0, 3.0], [4.0, 5.0, 6.0]])\n",
    "# b = tf.constant([[1.0, 2.0], [3.0, 4.0], [5.0, 6.0]])\n",
    "# c = tf.matmul(a, b)\n",
    "# # gpus = tf.config.experimental.list_physical_devices('GPU')\n",
    "# # print(gpus)\n",
    "# # print(tf.config.get_visible_devices()[0].device_type)\n",
    "# #~~~~~~~~~~~~~~~~~~~~~~~~~~~~~~~~~~~~~~~~~~~~~~~~~~~~~~~~~~~~~~~~~~~~~~~~~~\n",
    "\n",
    "from ICET_spherical import ICET\n",
    "from utils import R_tf\n",
    "%load_ext autoreload\n",
    "%autoreload 2\n",
    "%autosave 180\n",
    "%matplotlib notebook"
   ]
  },
  {
   "cell_type": "code",
   "execution_count": 14,
   "id": "1592fba6",
   "metadata": {
    "scrolled": true
   },
   "outputs": [
    {
     "name": "stdout",
     "output_type": "stream",
     "text": [
      "\n",
      " estimated solution vector X: \n",
      " tf.Tensor(\n",
      "[ 5.84295154e-01 -1.78336240e-02  1.45883765e-02  1.78093952e-03\n",
      " -4.72715212e-04  5.07070310e-03], shape=(6,), dtype=float32)\n",
      "\n",
      " estimated solution vector X: \n",
      " tf.Tensor(\n",
      "[ 6.5546894e-01  8.6153522e-03  1.5301341e-02  1.8563502e-03\n",
      " -5.1809853e-04  2.3613870e-04], shape=(6,), dtype=float32)\n",
      "\n",
      " estimated solution vector X: \n",
      " tf.Tensor(\n",
      "[ 6.6238201e-01  8.0269575e-03  1.5534875e-02  1.8833835e-03\n",
      " -5.0561124e-04 -2.2308371e-04], shape=(6,), dtype=float32)\n",
      "\n",
      " estimated solution vector X: \n",
      " tf.Tensor(\n",
      "[ 6.6284287e-01  7.8635626e-03  1.5575391e-02  1.8776538e-03\n",
      " -4.9813173e-04 -2.5881195e-04], shape=(6,), dtype=float32)\n",
      "\n",
      " ---checking for moving objects---\n",
      "\n",
      " estimated solution vector X: \n",
      " tf.Tensor(\n",
      "[ 6.6370761e-01  7.9847397e-03  1.5606427e-02  1.8739626e-03\n",
      " -4.9319415e-04 -3.1446415e-04], shape=(6,), dtype=float32)\n",
      "pred_stds: \n",
      " tf.Tensor(\n",
      "[1.19253318e-03 5.82777371e-04 7.93013096e-05 1.71638076e-05\n",
      " 1.10610445e-05 8.47276315e-05], shape=(6,), dtype=float32)\n"
     ]
    },
    {
     "data": {
      "application/vnd.jupyter.widget-view+json": {
       "model_id": "5c62adf644b3438791d02be8206918d6",
       "version_major": 2,
       "version_minor": 0
      },
      "text/plain": [
       "ViewInteractiveWidget(height=1043, layout=Layout(height='auto', width='100%'), width=1280)"
      ]
     },
     "metadata": {},
     "output_type": "display_data"
    }
   ],
   "source": [
    "c1 = np.load(\"point_clouds/sample_pc_1.npy\")            # keyframe scan\n",
    "c2 = np.load(\"point_clouds/sample_pc_2.npy\")            # new scan\n",
    "fidelity = 50                                           # number of azimuthal bins to make square cross-section voxels \n",
    "num_iterations = 5                                      # number of iterations to run algorithm\n",
    "is_draw = True                                          # visualize simulation\n",
    "initial_guess = tf.constant([0., 0., 0., 0., 0., 0.])   # initial guess for transform between clouds\n",
    "is_remove_moving = True                                 # remove moving objects from the frame \n",
    "is_DNN = False                                          # suppress voxels with high perspective shift using DNN\n",
    "\n",
    "it = ICET(cloud1 = c1, cloud2 = c2, fid = fidelity, niter = num_iterations, \n",
    "           draw = is_draw, RM = is_remove_moving, DNN_filter = is_DNN, x0 = initial_guess)\n",
    "ViewInteractiveWidget(it.plt.window) #comment out if <is_daraw == False>"
   ]
  },
  {
   "cell_type": "code",
   "execution_count": 13,
   "id": "0977df6f",
   "metadata": {},
   "outputs": [
    {
     "name": "stdout",
     "output_type": "stream",
     "text": [
      "\n",
      " Estimated Solution Vector: \n",
      " [ 6.6819602e-01  9.5334239e-03  1.5260901e-02  1.9900922e-03\n",
      " -5.6447712e-04 -6.1552221e-04]\n",
      "\n",
      " Predicted Solution Error Covariance: \n",
      " [1.1785920e-03 5.5214664e-04 7.7481214e-05 1.7047119e-05 1.0648150e-05\n",
      " 8.3485087e-05]\n"
     ]
    }
   ],
   "source": [
    "print(\"\\n Estimated Solution Vector: \\n\", it.X.numpy())\n",
    "print(\"\\n Predicted Solution Error Covariance: \\n\", it.pred_stds.numpy())"
   ]
  }
 ],
 "metadata": {
  "kernelspec": {
   "display_name": "Python 3 (ipykernel)",
   "language": "python",
   "name": "python3"
  },
  "language_info": {
   "codemirror_mode": {
    "name": "ipython",
    "version": 3
   },
   "file_extension": ".py",
   "mimetype": "text/x-python",
   "name": "python",
   "nbconvert_exporter": "python",
   "pygments_lexer": "ipython3",
   "version": "3.9.13"
  }
 },
 "nbformat": 4,
 "nbformat_minor": 5
}
