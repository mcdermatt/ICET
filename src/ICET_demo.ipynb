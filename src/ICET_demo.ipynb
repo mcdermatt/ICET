{
 "cells": [
  {
   "cell_type": "markdown",
   "id": "ee5020cc",
   "metadata": {},
   "source": [
    "# ICET Point Cloud Registration Demo"
   ]
  },
  {
   "cell_type": "code",
   "execution_count": 3,
   "id": "570b0147",
   "metadata": {},
   "outputs": [],
   "source": [
    "from vedo import *\n",
    "import os\n",
    "from ipyvtklink.viewer import ViewInteractiveWidget\n",
    "import numpy as np\n",
    "import pandas as pd\n",
    "import tensorflow as tf\n",
    "from tensorflow.math import sin, cos, tan\n",
    "import tensorflow_probability as tfp\n",
    "from ICET_spherical import ICET\n",
    "from utils import R_tf"
   ]
  },
  {
   "cell_type": "code",
   "execution_count": 4,
   "id": "1592fba6",
   "metadata": {
    "scrolled": false
   },
   "outputs": [
    {
     "name": "stdout",
     "output_type": "stream",
     "text": [
      "\n",
      " estimated solution vector X: \n",
      " tf.Tensor(\n",
      "[ 5.8742404e-01 -1.6775956e-02  1.4509849e-02  1.8190010e-03\n",
      " -4.5705290e-04  4.7495868e-03], shape=(6,), dtype=float32)\n",
      "\n",
      " estimated solution vector X: \n",
      " tf.Tensor(\n",
      "[ 6.5882415e-01  9.6477251e-03  1.5326852e-02  1.8883733e-03\n",
      " -4.9635477e-04 -2.9042363e-05], shape=(6,), dtype=float32)\n",
      "\n",
      " estimated solution vector X: \n",
      " tf.Tensor(\n",
      "[ 6.6465384e-01  8.7348372e-03  1.5572587e-02  1.9058725e-03\n",
      " -4.7976524e-04 -4.0691742e-04], shape=(6,), dtype=float32)\n",
      "\n",
      " estimated solution vector X: \n",
      " tf.Tensor(\n",
      "[ 6.6502666e-01  8.6102206e-03  1.5577257e-02  1.9045739e-03\n",
      " -4.7755698e-04 -4.3344026e-04], shape=(6,), dtype=float32)\n",
      "\n",
      " ---checking for moving objects---\n",
      "\n",
      " estimated solution vector X: \n",
      " tf.Tensor(\n",
      "[ 6.6519934e-01  8.5983593e-03  1.5635507e-02  1.8932890e-03\n",
      " -4.6928669e-04 -4.4293187e-04], shape=(6,), dtype=float32)\n",
      "pred_stds: \n",
      " tf.Tensor(\n",
      "[1.1751773e-03 5.6065683e-04 7.7554258e-05 1.6906875e-05 1.0829740e-05\n",
      " 8.3131432e-05], shape=(6,), dtype=float32)\n"
     ]
    },
    {
     "data": {
      "application/vnd.jupyter.widget-view+json": {
       "model_id": "10f8310509cb49fab6c4cde4198b954d",
       "version_major": 2,
       "version_minor": 0
      },
      "text/plain": [
       "ViewInteractiveWidget(height=1043, layout=Layout(height='auto', width='100%'), width=1280)"
      ]
     },
     "metadata": {},
     "output_type": "display_data"
    }
   ],
   "source": [
    "c1 = np.load(\"point_clouds/sample_pc_1.npy\")            # keyframe scan\n",
    "c2 = np.load(\"point_clouds/sample_pc_2.npy\")            # new scan\n",
    "fidelity = 50                                           # number of azimuthal bins to make square cross-section voxels \n",
    "num_iterations = 5                                      # number of iterations to run algorithm\n",
    "is_draw = True                                          # visualize simulation\n",
    "initial_guess = tf.constant([0., 0., 0., 0., 0., 0.])   # initial guess for transform between clouds\n",
    "is_remove_moving = True                                 # remove moving objects from the frame \n",
    "is_DNN = False                                          # suppress voxels with high perspective shift using DNN\n",
    "\n",
    "it = ICET(cloud1 = c1, cloud2 = c2, fid = fidelity, niter = num_iterations, \n",
    "           draw = is_draw, RM = is_remove_moving, DNN_filter = is_DNN, x0 = initial_guess)\n",
    "ViewInteractiveWidget(it.plt.window)"
   ]
  },
  {
   "cell_type": "code",
   "execution_count": 5,
   "id": "0977df6f",
   "metadata": {},
   "outputs": [
    {
     "name": "stdout",
     "output_type": "stream",
     "text": [
      "\n",
      " Estimated Solution Vector: \n",
      " [ 6.6519934e-01  8.5983593e-03  1.5635507e-02  1.8932890e-03\n",
      " -4.6928669e-04 -4.4293187e-04]\n",
      "\n",
      " Predicted Solution Error Covariance: \n",
      " [1.1751773e-03 5.6065683e-04 7.7554258e-05 1.6906875e-05 1.0829740e-05\n",
      " 8.3131432e-05]\n"
     ]
    }
   ],
   "source": [
    "print(\"\\n Estimated Solution Vector: \\n\", it.X.numpy())\n",
    "print(\"\\n Predicted Solution Error Covariance: \\n\", it.pred_stds.numpy())"
   ]
  },
  {
   "cell_type": "code",
   "execution_count": null,
   "id": "dc1c2f89",
   "metadata": {},
   "outputs": [],
   "source": []
  }
 ],
 "metadata": {
  "kernelspec": {
   "display_name": "Python 3 (ipykernel)",
   "language": "python",
   "name": "python3"
  },
  "language_info": {
   "codemirror_mode": {
    "name": "ipython",
    "version": 3
   },
   "file_extension": ".py",
   "mimetype": "text/x-python",
   "name": "python",
   "nbconvert_exporter": "python",
   "pygments_lexer": "ipython3",
   "version": "3.9.13"
  }
 },
 "nbformat": 4,
 "nbformat_minor": 5
}
