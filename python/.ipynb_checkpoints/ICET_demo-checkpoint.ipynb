{
 "cells": [
  {
   "cell_type": "markdown",
   "id": "ee5020cc",
   "metadata": {},
   "source": [
    "# ICET Point Cloud Registration Demo"
   ]
  },
  {
   "cell_type": "code",
   "execution_count": null,
   "id": "570b0147",
   "metadata": {},
   "outputs": [],
   "source": [
    "from vedo import *\n",
    "import os\n",
    "from ipyvtklink.viewer import ViewInteractiveWidget\n",
    "import numpy as np\n",
    "import pandas as pd\n",
    "import tensorflow as tf\n",
    "from tensorflow.math import sin, cos, tan\n",
    "import tensorflow_probability as tfp\n",
    "\n",
    "# #Force run on CPU (uncomment for hardware debugging) ~~~~~~~~~~~~~~~~~~~~~~~\n",
    "# # print(tf.__version__)\n",
    "# # Set CPU as available physical device\n",
    "# my_devices = tf.config.experimental.list_physical_devices(device_type='CPU')\n",
    "# tf.config.experimental.set_visible_devices(devices= my_devices, device_type='CPU')\n",
    "# tf.config.set_visible_devices([], 'GPU')\n",
    "# # To find out which devices your operations and tensors are assigned to\n",
    "# tf.debugging.set_log_device_placement(True)\n",
    "# # Create some tensors and perform an operation\n",
    "# a = tf.constant([[1.0, 2.0, 3.0], [4.0, 5.0, 6.0]])\n",
    "# b = tf.constant([[1.0, 2.0], [3.0, 4.0], [5.0, 6.0]])\n",
    "# c = tf.matmul(a, b)\n",
    "# # gpus = tf.config.experimental.list_physical_devices('GPU')\n",
    "# # print(gpus)\n",
    "# # print(tf.config.get_visible_devices()[0].device_type)\n",
    "# #~~~~~~~~~~~~~~~~~~~~~~~~~~~~~~~~~~~~~~~~~~~~~~~~~~~~~~~~~~~~~~~~~~~~~~~~~~\n",
    "\n",
    "#limit GPU memory ------------------------------------------------\n",
    "gpus = tf.config.experimental.list_physical_devices('GPU')\n",
    "print(gpus)\n",
    "if gpus:\n",
    "  try:\n",
    "    memlim = 4*1024\n",
    "    tf.config.experimental.set_virtual_device_configuration(gpus[0], [tf.config.experimental.VirtualDeviceConfiguration(memory_limit=memlim)])\n",
    "  except RuntimeError as e:\n",
    "    print(e)\n",
    "#-----------------------------------------------------------------\n",
    "\n",
    "from ICET_spherical import ICET\n",
    "from utils import R_tf\n",
    "%load_ext autoreload\n",
    "%autoreload 2\n",
    "%autosave 180\n",
    "%matplotlib notebook"
   ]
  },
  {
   "cell_type": "code",
   "execution_count": null,
   "id": "1592fba6",
   "metadata": {
    "scrolled": true
   },
   "outputs": [],
   "source": [
    "c1 = np.load(\"point_clouds/sample_pc_1.npy\")            # keyframe scan\n",
    "c2 = np.load(\"point_clouds/sample_pc_2.npy\")            # new scan\n",
    "fidelity = 50                                           # number of azimuthal bins to make square cross-section voxels \n",
    "num_iterations = 5                                      # number of iterations to run algorithm\n",
    "is_draw = True                                          # visualize simulation\n",
    "initial_guess = tf.constant([0., 0., 0., 0., 0., 0.])   # initial guess for transform between clouds\n",
    "is_remove_moving = True                                 # remove moving objects from the frame \n",
    "is_DNN = False                                          # suppress voxels with high perspective shift using DNN\n",
    "\n",
    "it = ICET(cloud1 = c1, cloud2 = c2, fid = fidelity, niter = num_iterations, \n",
    "           draw = is_draw, RM = is_remove_moving, DNN_filter = is_DNN, x0 = initial_guess)\n",
    "ViewInteractiveWidget(it.plt.window) #comment out if <is_daraw == False>"
   ]
  },
  {
   "cell_type": "code",
   "execution_count": null,
   "id": "0977df6f",
   "metadata": {},
   "outputs": [],
   "source": [
    "print(\"\\n Estimated Solution Vector: \\n\", it.X.numpy())\n",
    "print(\"\\n Predicted Solution Error Covariance: \\n\", it.pred_stds.numpy())"
   ]
  }
 ],
 "metadata": {
  "kernelspec": {
   "display_name": "Python 3 (ipykernel)",
   "language": "python",
   "name": "python3"
  },
  "language_info": {
   "codemirror_mode": {
    "name": "ipython",
    "version": 3
   },
   "file_extension": ".py",
   "mimetype": "text/x-python",
   "name": "python",
   "nbconvert_exporter": "python",
   "pygments_lexer": "ipython3",
   "version": "3.8.10"
  }
 },
 "nbformat": 4,
 "nbformat_minor": 5
}
